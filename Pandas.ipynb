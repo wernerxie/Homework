{
 "cells": [
  {
   "cell_type": "markdown",
   "id": "846175ff",
   "metadata": {},
   "source": [
    "### Pandas 数据结构 - Series\n",
    "##### Pandas Series 类似表格中的一个列（column），类似于一维数组，可以保存任何数据类型。\n",
    "\n",
    "##### Series 由索引（index）和列组成，函数如下：\n",
    "\n",
    "##### pandas.Series( data, index, dtype, name, copy)\n",
    "参数说明：\n",
    "\n",
    "##### data：一组数据(ndarray 类型)。\n",
    "\n",
    "##### index：数据索引标签，如果不指定，默认从 0 开始。\n",
    "\n",
    "##### dtype：数据类型，默认会自己判断。\n",
    "\n",
    "##### name：设置名称。\n",
    "\n",
    "##### copy：拷贝数据，默认为 False。"
   ]
  },
  {
   "cell_type": "code",
   "execution_count": 1,
   "id": "609f86ea",
   "metadata": {},
   "outputs": [
    {
     "name": "stdout",
     "output_type": "stream",
     "text": [
      "0    1\n",
      "1    2\n",
      "2    3\n",
      "dtype: int64\n"
     ]
    }
   ],
   "source": [
    "import pandas as pd\n",
    "\n",
    "a = [1, 2, 3]\n",
    "\n",
    "myvar = pd.Series(a)\n",
    "\n",
    "print(myvar)"
   ]
  },
  {
   "cell_type": "code",
   "execution_count": 2,
   "id": "dfea0b06",
   "metadata": {},
   "outputs": [
    {
     "name": "stdout",
     "output_type": "stream",
     "text": [
      "x    Google\n",
      "y    Runoob\n",
      "z      Wiki\n",
      "dtype: object\n"
     ]
    }
   ],
   "source": [
    "a = [\"Google\", \"Runoob\", \"Wiki\"]\n",
    "\n",
    "myvar = pd.Series(a, index = [\"x\", \"y\", \"z\"])\n",
    "\n",
    "print(myvar)"
   ]
  },
  {
   "cell_type": "code",
   "execution_count": 3,
   "id": "32904900",
   "metadata": {},
   "outputs": [
    {
     "name": "stdout",
     "output_type": "stream",
     "text": [
      "1    Google\n",
      "2    Runoob\n",
      "Name: RUNOOB-Series-TEST, dtype: object\n"
     ]
    }
   ],
   "source": [
    "sites = {1: \"Google\", 2: \"Runoob\", 3: \"Wiki\"}\n",
    "\n",
    "myvar = pd.Series(sites, index = [1, 2], name=\"RUNOOB-Series-TEST\" )\n",
    "\n",
    "print(myvar)"
   ]
  },
  {
   "cell_type": "markdown",
   "id": "ed2e9e30",
   "metadata": {},
   "source": [
    "### Pandas 数据结构 - DataFrame\n",
    "##### DataFrame 是一个表格型的数据结构，它含有一组有序的列，每列可以是不同的值类型（数值、字符串、布尔型值）。DataFrame 既有行索引也有列索引，它可以被看做由 Series 组成的字典（共同用一个索引）。"
   ]
  },
  {
   "cell_type": "markdown",
   "id": "7bbb69cf",
   "metadata": {},
   "source": [
    "##### data：一组数据(ndarray、series, map, lists, dict 等类型)。\n",
    "\n",
    "##### index：索引值，或者可以称为行标签。\n",
    "\n",
    "##### columns：列标签，默认为 RangeIndex (0, 1, 2, …, n) 。\n",
    "\n",
    "##### dtype：数据类型。\n",
    "\n",
    "##### copy：拷贝数据，默认为 False。"
   ]
  },
  {
   "cell_type": "code",
   "execution_count": 7,
   "id": "937af151",
   "metadata": {},
   "outputs": [
    {
     "name": "stdout",
     "output_type": "stream",
     "text": [
      "     Site  Age\n",
      "0  Google   10\n",
      "1  Runoob   12\n",
      "2    Wiki   13\n"
     ]
    }
   ],
   "source": [
    "data = {'Site':['Google', 'Runoob', 'Wiki'], 'Age':[10, 12, 13]}\n",
    "\n",
    "df = pd.DataFrame(data)\n",
    "\n",
    "print (df)"
   ]
  },
  {
   "cell_type": "code",
   "execution_count": 8,
   "id": "ba1c8494",
   "metadata": {},
   "outputs": [
    {
     "name": "stdout",
     "output_type": "stream",
     "text": [
      "calories    380\n",
      "duration     40\n",
      "Name: day2, dtype: int64\n"
     ]
    }
   ],
   "source": [
    "data = {\n",
    "  \"calories\": [420, 380, 390],\n",
    "  \"duration\": [50, 40, 45]\n",
    "}\n",
    "\n",
    "df = pd.DataFrame(data, index = [\"day1\", \"day2\", \"day3\"])\n",
    "\n",
    "# 指定索引\n",
    "print(df.loc[\"day2\"])"
   ]
  },
  {
   "cell_type": "markdown",
   "id": "36acdaee",
   "metadata": {},
   "source": [
    "### Pandas CSV 文件\n",
    "##### CSV（Comma-Separated Values，逗号分隔值，有时也称为字符分隔值，因为分隔字符也可以不是逗号），其文件以纯文本形式存储表格数据（数字和文本）。\n",
    "\n",
    "##### CSV 是一种通用的、相对简单的文件格式，被用户、商业和科学广泛应用。\n",
    "\n",
    "##### Pandas 可以很方便的处理 CSV 文件，本文以 nba.csv 为例，你可以下载 nba.csv 或打开 nba.csv 查看。"
   ]
  },
  {
   "cell_type": "code",
   "execution_count": 10,
   "id": "088be80a",
   "metadata": {},
   "outputs": [
    {
     "name": "stdout",
     "output_type": "stream",
     "text": [
      "                  NAME POS  GP  MIN  PTS\n",
      "0      Andrew Nembhard   G  25  760  272\n",
      "1         Anton Watson   F  25  448  206\n",
      "2            Ben Gregg   F  16  104   40\n",
      "3        Chet Holmgren   C  25  659  361\n",
      "4           Drew Timme   F  25  675  450\n",
      "5        Hunter Sallis   G  25  372  119\n",
      "6     Julian Strawther   G  25  647  308\n",
      "7          Kaden Perry   F   8   53   14\n",
      "8   Martynas Arlauskas   G  15   53   12\n",
      "9         Matthew Lang   G  16   52   17\n",
      "10       Nolan Hickman   G  25  474  156\n",
      "11        Rasir Bolton   G  25  654  271\n",
      "12         Will Graves   G  15   28   11\n"
     ]
    }
   ],
   "source": [
    "df = pd.read_csv('basketball.csv')\n",
    "\n",
    "print(df.to_string())"
   ]
  },
  {
   "cell_type": "code",
   "execution_count": 11,
   "id": "44de95e2",
   "metadata": {},
   "outputs": [],
   "source": [
    "# 三个字段 name, site, age\n",
    "nme = [\"Google\", \"Runoob\", \"Taobao\", \"Wiki\"]\n",
    "st = [\"www.google.com\", \"www.runoob.com\", \"www.taobao.com\", \"www.wikipedia.org\"]\n",
    "ag = [90, 40, 80, 98]\n",
    "   \n",
    "# 字典\n",
    "dict = {'name': nme, 'site': st, 'age': ag}\n",
    "     \n",
    "df = pd.DataFrame(dict)\n",
    " \n",
    "# 保存 dataframe\n",
    "df.to_csv('site.csv')"
   ]
  },
  {
   "cell_type": "code",
   "execution_count": 12,
   "id": "76148586",
   "metadata": {},
   "outputs": [
    {
     "name": "stdout",
     "output_type": "stream",
     "text": [
      "              NAME POS  GP  MIN  PTS\n",
      "0  Andrew Nembhard   G  25  760  272\n",
      "1     Anton Watson   F  25  448  206\n",
      "2        Ben Gregg   F  16  104   40\n",
      "3    Chet Holmgren   C  25  659  361\n",
      "4       Drew Timme   F  25  675  450\n"
     ]
    }
   ],
   "source": [
    "df = pd.read_csv('basketball.csv')\n",
    "\n",
    "print(df.head())"
   ]
  },
  {
   "cell_type": "code",
   "execution_count": 13,
   "id": "f6a11a1f",
   "metadata": {},
   "outputs": [
    {
     "name": "stdout",
     "output_type": "stream",
     "text": [
      "                  NAME POS  GP  MIN  PTS\n",
      "8   Martynas Arlauskas   G  15   53   12\n",
      "9         Matthew Lang   G  16   52   17\n",
      "10       Nolan Hickman   G  25  474  156\n",
      "11        Rasir Bolton   G  25  654  271\n",
      "12         Will Graves   G  15   28   11\n"
     ]
    }
   ],
   "source": [
    "df = pd.read_csv('basketball.csv')\n",
    "\n",
    "print(df.tail())"
   ]
  },
  {
   "cell_type": "code",
   "execution_count": 14,
   "id": "1e86cb89",
   "metadata": {},
   "outputs": [
    {
     "name": "stdout",
     "output_type": "stream",
     "text": [
      "<class 'pandas.core.frame.DataFrame'>\n",
      "RangeIndex: 13 entries, 0 to 12\n",
      "Data columns (total 5 columns):\n",
      " #   Column  Non-Null Count  Dtype \n",
      "---  ------  --------------  ----- \n",
      " 0   NAME    13 non-null     object\n",
      " 1   POS     13 non-null     object\n",
      " 2   GP      13 non-null     int64 \n",
      " 3   MIN     13 non-null     int64 \n",
      " 4   PTS     13 non-null     int64 \n",
      "dtypes: int64(3), object(2)\n",
      "memory usage: 648.0+ bytes\n",
      "None\n"
     ]
    }
   ],
   "source": [
    "df = pd.read_csv('basketball.csv')\n",
    "\n",
    "print(df.info())"
   ]
  },
  {
   "cell_type": "markdown",
   "id": "291fd620",
   "metadata": {},
   "source": [
    "### Pandas JSON\n",
    "##### JSON（JavaScript Object Notation，JavaScript 对象表示法），是存储和交换文本信息的语法，类似 XML。\n",
    "\n",
    "##### JSON 比 XML 更小、更快，更易解析，更多 JSON 内容可以参考 JSON 教程。\n",
    "\n",
    "##### Pandas 可以很方便的处理 JSON 数据，本文以 sites.json 为例，内容如下"
   ]
  },
  {
   "cell_type": "code",
   "execution_count": 16,
   "id": "db821ffa",
   "metadata": {},
   "outputs": [
    {
     "name": "stdout",
     "output_type": "stream",
     "text": [
      "     id    name             url  likes\n",
      "0  A001      百科   www.baidu.com     61\n",
      "1  A002  Google  www.google.com    124\n",
      "2  A003      淘宝  www.taobao.com     45\n"
     ]
    }
   ],
   "source": [
    "data =[\n",
    "    {\n",
    "      \"id\": \"A001\",\n",
    "      \"name\": \"百科\",\n",
    "      \"url\": \"www.baidu.com\",\n",
    "      \"likes\": 61\n",
    "    },\n",
    "    {\n",
    "      \"id\": \"A002\",\n",
    "      \"name\": \"Google\",\n",
    "      \"url\": \"www.google.com\",\n",
    "      \"likes\": 124\n",
    "    },\n",
    "    {\n",
    "      \"id\": \"A003\",\n",
    "      \"name\": \"淘宝\",\n",
    "      \"url\": \"www.taobao.com\",\n",
    "      \"likes\": 45\n",
    "    }\n",
    "]\n",
    "df = pd.DataFrame(data)\n",
    "\n",
    "print(df)"
   ]
  },
  {
   "cell_type": "code",
   "execution_count": 17,
   "id": "a54e3002",
   "metadata": {},
   "outputs": [
    {
     "name": "stdout",
     "output_type": "stream",
     "text": [
      "      col1 col2\n",
      "row1     1    x\n",
      "row2     2    y\n",
      "row3     3    z\n"
     ]
    }
   ],
   "source": [
    "# 字典格式的 JSON                                                                                              \n",
    "s = {\n",
    "    \"col1\":{\"row1\":1,\"row2\":2,\"row3\":3},\n",
    "    \"col2\":{\"row1\":\"x\",\"row2\":\"y\",\"row3\":\"z\"}\n",
    "}\n",
    "\n",
    "# 读取 JSON 转为 DataFrame                                                                                          \n",
    "df = pd.DataFrame(s)\n",
    "print(df)"
   ]
  },
  {
   "cell_type": "code",
   "execution_count": 18,
   "id": "bc4127ab",
   "metadata": {},
   "outputs": [
    {
     "name": "stdout",
     "output_type": "stream",
     "text": [
      "     id    name             url  likes\n",
      "0  A001    菜鸟教程  www.runoob.com     61\n",
      "1  A002  Google  www.google.com    124\n",
      "2  A003      淘宝  www.taobao.com     45\n"
     ]
    }
   ],
   "source": [
    "URL = 'https://static.runoob.com/download/sites.json'\n",
    "df = pd.read_json(URL)\n",
    "print(df)"
   ]
  },
  {
   "cell_type": "markdown",
   "id": "93981ab7",
   "metadata": {},
   "source": [
    "### Pandas 数据清洗\n",
    "##### 数据清洗是对一些没有用的数据进行处理的过程。\n",
    "\n",
    "##### 很多数据集存在数据缺失、数据格式错误、错误数据或重复数据的情况，如果要对使数据分析更加准确，就需要对这些没有用的数据进行处理。\n",
    "\n",
    "##### 在这个教程中，我们将利用 Pandas包来进行数据清洗。"
   ]
  },
  {
   "cell_type": "markdown",
   "id": "abad3beb",
   "metadata": {},
   "source": [
    "##### 如果我们要删除包含空字段的行，可以使用 dropna() 方法，语法格式如下：\n",
    "\n",
    "##### DataFrame.dropna(axis=0, how='any', thresh=None, subset=None, inplace=False)\n",
    "##### 参数说明：\n",
    "\n",
    "##### axis：默认为 0，表示逢空值剔除整行，如果设置参数 axis＝1 表示逢空值去掉整列。\n",
    "##### how：默认为 'any' 如果一行（或一列）里任何一个数据有出现 NA 就去掉整行，如果设置 how='all' 一行（或列）都是 NA 才去掉这整行。\n",
    "##### thresh：设置需要多少非空值的数据才可以保留下来的。\n",
    "##### subset：设置想要检查的列。如果是多个列，可以使用列名的 list 作为参数。\n",
    "##### inplace：如果设置 True，将计算得到的值直接覆盖之前的值并返回 None，修改的是源数据。\n",
    "##### 我们可以通过 isnull() 判断各个单元格是否为空。"
   ]
  },
  {
   "cell_type": "code",
   "execution_count": 19,
   "id": "0ca2fe36",
   "metadata": {},
   "outputs": [
    {
     "name": "stdout",
     "output_type": "stream",
     "text": [
      "0    3.0\n",
      "1    3.0\n",
      "2    NaN\n",
      "3    1.0\n",
      "4    3.0\n",
      "5    NaN\n",
      "6    2.0\n",
      "7    1.0\n",
      "8    NaN\n",
      "Name: NUM_BEDROOMS, dtype: float64\n",
      "0    False\n",
      "1    False\n",
      "2     True\n",
      "3    False\n",
      "4    False\n",
      "5     True\n",
      "6    False\n",
      "7    False\n",
      "8     True\n",
      "Name: NUM_BEDROOMS, dtype: bool\n"
     ]
    }
   ],
   "source": [
    "missing_values = [\"n/a\", \"na\", \"--\"]\n",
    "df = pd.read_csv('property-data.csv', na_values = missing_values)\n",
    "\n",
    "print (df['NUM_BEDROOMS'])\n",
    "print (df['NUM_BEDROOMS'].isnull())"
   ]
  },
  {
   "cell_type": "code",
   "execution_count": 20,
   "id": "e7dd8b7e",
   "metadata": {},
   "outputs": [
    {
     "name": "stdout",
     "output_type": "stream",
     "text": [
      "           PID  ST_NUM    ST_NAME OWN_OCCUPIED NUM_BEDROOMS NUM_BATH SQ_FT\n",
      "0  100001000.0   104.0     PUTNAM            Y            3        1  1000\n",
      "1  100002000.0   197.0  LEXINGTON            N            3      1.5    --\n",
      "8  100009000.0   215.0    TREMONT            Y           na        2  1800\n"
     ]
    }
   ],
   "source": [
    "\n",
    "df = pd.read_csv('property-data.csv')\n",
    "\n",
    "new_df = df.dropna()\n",
    "\n",
    "print(new_df.to_string())"
   ]
  },
  {
   "cell_type": "code",
   "execution_count": 21,
   "id": "f720b55f",
   "metadata": {},
   "outputs": [
    {
     "name": "stdout",
     "output_type": "stream",
     "text": [
      "           PID  ST_NUM    ST_NAME OWN_OCCUPIED NUM_BEDROOMS NUM_BATH SQ_FT\n",
      "0  100001000.0   104.0     PUTNAM            Y            3        1  1000\n",
      "1  100002000.0   197.0  LEXINGTON            N            3      1.5    --\n",
      "3  100004000.0   201.0   BERKELEY           12            1      NaN   700\n",
      "4          NaN   203.0   BERKELEY            Y            3        2  1600\n",
      "5  100006000.0   207.0   BERKELEY            Y          NaN        1   800\n",
      "7  100008000.0   213.0    TREMONT            Y            1        1   NaN\n",
      "8  100009000.0   215.0    TREMONT            Y           na        2  1800\n"
     ]
    }
   ],
   "source": [
    "\n",
    "df = pd.read_csv('property-data.csv')\n",
    "\n",
    "df.dropna(subset=['ST_NUM'], inplace = True)\n",
    "\n",
    "print(df.to_string())"
   ]
  },
  {
   "cell_type": "code",
   "execution_count": 22,
   "id": "2e7565ca",
   "metadata": {},
   "outputs": [
    {
     "name": "stdout",
     "output_type": "stream",
     "text": [
      "           PID  ST_NUM     ST_NAME OWN_OCCUPIED NUM_BEDROOMS NUM_BATH SQ_FT\n",
      "0  100001000.0   104.0      PUTNAM            Y            3        1  1000\n",
      "1  100002000.0   197.0   LEXINGTON            N            3      1.5    --\n",
      "2  100003000.0     NaN   LEXINGTON            N          NaN        1   850\n",
      "3  100004000.0   201.0    BERKELEY           12            1      NaN   700\n",
      "4      12345.0   203.0    BERKELEY            Y            3        2  1600\n",
      "5  100006000.0   207.0    BERKELEY            Y          NaN        1   800\n",
      "6  100007000.0     NaN  WASHINGTON          NaN            2   HURLEY   950\n",
      "7  100008000.0   213.0     TREMONT            Y            1        1   NaN\n",
      "8  100009000.0   215.0     TREMONT            Y           na        2  1800\n"
     ]
    }
   ],
   "source": [
    "df = pd.read_csv('property-data.csv')\n",
    "\n",
    "df['PID'].fillna(12345, inplace = True)\n",
    "\n",
    "print(df.to_string())"
   ]
  },
  {
   "cell_type": "code",
   "execution_count": 23,
   "id": "e8807957",
   "metadata": {},
   "outputs": [
    {
     "name": "stdout",
     "output_type": "stream",
     "text": [
      "           PID  ST_NUM     ST_NAME OWN_OCCUPIED NUM_BEDROOMS NUM_BATH SQ_FT\n",
      "0  100001000.0   104.0      PUTNAM            Y            3        1  1000\n",
      "1  100002000.0   197.0   LEXINGTON            N            3      1.5    --\n",
      "2  100003000.0   203.0   LEXINGTON            N          NaN        1   850\n",
      "3  100004000.0   201.0    BERKELEY           12            1      NaN   700\n",
      "4          NaN   203.0    BERKELEY            Y            3        2  1600\n",
      "5  100006000.0   207.0    BERKELEY            Y          NaN        1   800\n",
      "6  100007000.0   203.0  WASHINGTON          NaN            2   HURLEY   950\n",
      "7  100008000.0   213.0     TREMONT            Y            1        1   NaN\n",
      "8  100009000.0   215.0     TREMONT            Y           na        2  1800\n"
     ]
    }
   ],
   "source": [
    "df = pd.read_csv('property-data.csv')\n",
    "\n",
    "x = df[\"ST_NUM\"].median()\n",
    "\n",
    "df[\"ST_NUM\"].fillna(x, inplace = True)\n",
    "\n",
    "print(df.to_string())"
   ]
  },
  {
   "cell_type": "code",
   "execution_count": 24,
   "id": "31b10019",
   "metadata": {},
   "outputs": [
    {
     "name": "stdout",
     "output_type": "stream",
     "text": [
      "           Date  duration\n",
      "day1 2020-12-01        50\n",
      "day2 2020-12-02        40\n",
      "day3 2020-12-26        45\n"
     ]
    }
   ],
   "source": [
    "# 第三个日期格式错误\n",
    "data = {\n",
    "  \"Date\": ['2020/12/01', '2020/12/02' , '20201226'],\n",
    "  \"duration\": [50, 40, 45]\n",
    "}\n",
    "\n",
    "df = pd.DataFrame(data, index = [\"day1\", \"day2\", \"day3\"])\n",
    "\n",
    "df['Date'] = pd.to_datetime(df['Date'])\n",
    "\n",
    "print(df.to_string())"
   ]
  },
  {
   "cell_type": "code",
   "execution_count": 25,
   "id": "d409ce96",
   "metadata": {},
   "outputs": [
    {
     "name": "stdout",
     "output_type": "stream",
     "text": [
      "     name  age\n",
      "0  Google   50\n",
      "1  Runoob  120\n",
      "2  Taobao  120\n"
     ]
    }
   ],
   "source": [
    "person = {\n",
    "  \"name\": ['Google', 'Runoob' , 'Taobao'],\n",
    "  \"age\": [50, 200, 12345]    \n",
    "}\n",
    "\n",
    "df = pd.DataFrame(person)\n",
    "\n",
    "for x in df.index:\n",
    "  if df.loc[x, \"age\"] > 120:\n",
    "    df.loc[x, \"age\"] = 120\n",
    "\n",
    "print(df.to_string())"
   ]
  },
  {
   "cell_type": "code",
   "execution_count": 26,
   "id": "3ea62c4a",
   "metadata": {},
   "outputs": [
    {
     "name": "stdout",
     "output_type": "stream",
     "text": [
      "0    False\n",
      "1    False\n",
      "2     True\n",
      "3    False\n",
      "dtype: bool\n"
     ]
    }
   ],
   "source": [
    "person = {\n",
    "  \"name\": ['Google', 'Runoob', 'Runoob', 'Taobao'],\n",
    "  \"age\": [50, 40, 40, 23]  \n",
    "}\n",
    "df = pd.DataFrame(person)\n",
    "\n",
    "print(df.duplicated())"
   ]
  },
  {
   "cell_type": "code",
   "execution_count": 27,
   "id": "37760e4f",
   "metadata": {},
   "outputs": [
    {
     "name": "stdout",
     "output_type": "stream",
     "text": [
      "     name  age\n",
      "0  Google   50\n",
      "1  Runoob   40\n",
      "3  Taobao   23\n"
     ]
    }
   ],
   "source": [
    "persons = {\n",
    "  \"name\": ['Google', 'Runoob', 'Runoob', 'Taobao'],\n",
    "  \"age\": [50, 40, 40, 23]  \n",
    "}\n",
    "\n",
    "df = pd.DataFrame(persons)\n",
    "\n",
    "df.drop_duplicates(inplace = True)\n",
    "print(df)"
   ]
  },
  {
   "cell_type": "code",
   "execution_count": null,
   "id": "576eae85",
   "metadata": {},
   "outputs": [],
   "source": []
  }
 ],
 "metadata": {
  "kernelspec": {
   "display_name": "Python 3 (ipykernel)",
   "language": "python",
   "name": "python3"
  },
  "language_info": {
   "codemirror_mode": {
    "name": "ipython",
    "version": 3
   },
   "file_extension": ".py",
   "mimetype": "text/x-python",
   "name": "python",
   "nbconvert_exporter": "python",
   "pygments_lexer": "ipython3",
   "version": "3.9.12"
  }
 },
 "nbformat": 4,
 "nbformat_minor": 5
}
